{
 "cells": [
  {
   "cell_type": "code",
   "execution_count": 3,
   "source": [
    "name='Sai'\n",
    "greeting='hello Sai'\n",
    "greeting"
   ],
   "outputs": [
    {
     "output_type": "execute_result",
     "data": {
      "text/plain": [
       "'hello Sai'"
      ]
     },
     "metadata": {},
     "execution_count": 3
    }
   ],
   "metadata": {}
  },
  {
   "cell_type": "markdown",
   "source": [
    "## Formatting Strings\n",
    "### method 1: using `f`\n",
    "By adding the letter `f` and putting the variable in curly braces `{}` you can format the string to print whatever you like"
   ],
   "metadata": {}
  },
  {
   "cell_type": "code",
   "execution_count": 11,
   "source": [
    "def func_greeting(name):\n",
    "    greeting=f'hello {name}'\n",
    "    print(greeting)"
   ],
   "outputs": [],
   "metadata": {}
  },
  {
   "cell_type": "code",
   "execution_count": 13,
   "source": [
    "name='Shruti'\n",
    "func_greeting(name)\n",
    "func_greeting('Rucha')"
   ],
   "outputs": [
    {
     "output_type": "stream",
     "name": "stdout",
     "text": [
      "hello Shruti\n",
      "hello Rucha\n"
     ]
    }
   ],
   "metadata": {}
  },
  {
   "cell_type": "markdown",
   "source": [
    "### method 2: using `format`. \n",
    "particularly useful for formatting strings with multiple variables."
   ],
   "metadata": {}
  },
  {
   "cell_type": "code",
   "execution_count": 17,
   "source": [
    "plan = 'Today is a {}, and we shall visit {}.'\n",
    "\n",
    "complete_plan = plan.format('Friday', 'Cafe am Neuen See')\n",
    "print(complete_plan)"
   ],
   "outputs": [
    {
     "output_type": "stream",
     "name": "stdout",
     "text": [
      "Today is a Friday, and we shall visit Cafe am Neuen See.\n"
     ]
    }
   ],
   "metadata": {}
  },
  {
   "cell_type": "code",
   "execution_count": 18,
   "source": [
    "plan='Today is a {}, and we shall visit {}.'\n",
    "def announce_plan(plan, day, visit):\n",
    "    complete_plan = plan.format(day, visit)\n",
    "    print(complete_plan)\n",
    "\n",
    "announce_plan(plan, 'Friday', 'Zenner')"
   ],
   "outputs": [
    {
     "output_type": "stream",
     "name": "stdout",
     "text": [
      "Today is a Friday, and we shall visit Zenner.\n"
     ]
    }
   ],
   "metadata": {}
  },
  {
   "cell_type": "code",
   "execution_count": null,
   "source": [],
   "outputs": [],
   "metadata": {}
  }
 ],
 "metadata": {
  "orig_nbformat": 4,
  "language_info": {
   "name": "python",
   "version": "3.6.7",
   "mimetype": "text/x-python",
   "codemirror_mode": {
    "name": "ipython",
    "version": 3
   },
   "pygments_lexer": "ipython3",
   "nbconvert_exporter": "python",
   "file_extension": ".py"
  },
  "kernelspec": {
   "name": "python3",
   "display_name": "Python 3.6.7 64-bit ('on_premise_build_env': virtualenv)"
  },
  "interpreter": {
   "hash": "c25638ae6db0578e1e1c970a34cdc95ee6d05662459d88eb76cdd9e012d6bfb5"
  }
 },
 "nbformat": 4,
 "nbformat_minor": 2
}