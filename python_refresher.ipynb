{
 "cells": [
  {
   "cell_type": "code",
   "execution_count": 3,
   "source": [
    "name='Sai'\n",
    "greeting='hello Sai'\n",
    "greeting"
   ],
   "outputs": [
    {
     "output_type": "execute_result",
     "data": {
      "text/plain": [
       "'hello Sai'"
      ]
     },
     "metadata": {},
     "execution_count": 3
    }
   ],
   "metadata": {}
  },
  {
   "cell_type": "markdown",
   "source": [
    "## Formatting Strings\n",
    "### method 1: using `f`\n",
    "By adding the letter `f` and putting the variable in curly braces `{}` you can format the string to print whatever you like"
   ],
   "metadata": {}
  },
  {
   "cell_type": "code",
   "execution_count": 11,
   "source": [
    "def func_greeting(name):\n",
    "    greeting=f'hello {name}'\n",
    "    print(greeting)"
   ],
   "outputs": [],
   "metadata": {}
  },
  {
   "cell_type": "code",
   "execution_count": 13,
   "source": [
    "name='Shruti'\n",
    "func_greeting(name)\n",
    "func_greeting('Rucha')"
   ],
   "outputs": [
    {
     "output_type": "stream",
     "name": "stdout",
     "text": [
      "hello Shruti\n",
      "hello Rucha\n"
     ]
    }
   ],
   "metadata": {}
  },
  {
   "cell_type": "markdown",
   "source": [
    "### method 2: using `format`. \n",
    "particularly useful for formatting strings with multiple variables."
   ],
   "metadata": {}
  },
  {
   "cell_type": "code",
   "execution_count": 17,
   "source": [
    "plan = 'Today is a {}, and we shall visit {}.'\n",
    "\n",
    "complete_plan = plan.format('Friday', 'Cafe am Neuen See')\n",
    "print(complete_plan)"
   ],
   "outputs": [
    {
     "output_type": "stream",
     "name": "stdout",
     "text": [
      "Today is a Friday, and we shall visit Cafe am Neuen See.\n"
     ]
    }
   ],
   "metadata": {}
  },
  {
   "cell_type": "code",
   "execution_count": 18,
   "source": [
    "plan='Today is a {}, and we shall visit {}.'\n",
    "def announce_plan(plan, day, visit):\n",
    "    complete_plan = plan.format(day, visit)\n",
    "    print(complete_plan)\n",
    "\n",
    "announce_plan(plan, 'Friday', 'Zenner')"
   ],
   "outputs": [
    {
     "output_type": "stream",
     "name": "stdout",
     "text": [
      "Today is a Friday, and we shall visit Zenner.\n"
     ]
    }
   ],
   "metadata": {}
  },
  {
   "cell_type": "markdown",
   "source": [
    "additionally, adding a `.xf` at the end of a variable can restrict the digits after the decimal"
   ],
   "metadata": {}
  },
  {
   "cell_type": "code",
   "execution_count": 28,
   "source": [
    "def celsius_to_fahrenheit(temp):\n",
    "    return ((temp*9/5)+32)\n",
    "\n",
    "c_temp=input('Enter temp in C')\n",
    "print(f'{c_temp} C in F is {celsius_to_fahrenheit(float(c_temp)):.2f} F')"
   ],
   "outputs": [
    {
     "output_type": "stream",
     "name": "stdout",
     "text": [
      "23 C in F is 73.40 F\n"
     ]
    }
   ],
   "metadata": {}
  },
  {
   "cell_type": "markdown",
   "source": [
    "## List Comprehensions\n",
    "\n",
    "compound statements within a `list`"
   ],
   "metadata": {}
  },
  {
   "cell_type": "code",
   "execution_count": 6,
   "source": [
    "friends = ['nishit', 'punk', 'prashant']\n",
    "starts_p = [i for i in friends if i.startswith('p')]\n",
    "print(starts_p)"
   ],
   "outputs": [
    {
     "output_type": "stream",
     "name": "stdout",
     "text": [
      "['punk', 'prashant']\n"
     ]
    }
   ],
   "metadata": {}
  },
  {
   "cell_type": "markdown",
   "source": [
    "## Lambda Functions\n",
    "always take some input and provide some fixed output. here are the salient differences between a typical function and a lambda function.\n",
    "\n",
    "|Typical Function  | Lambda Function  |\n",
    "|---|---|\n",
    "|May or may not have input arguments   |always has input arguments   |\n",
    "|May or may not have a return variable   |always has some output variable   |\n",
    "\n"
   ],
   "metadata": {}
  },
  {
   "cell_type": "code",
   "execution_count": 7,
   "source": [
    "lambda_add = lambda x, y: x+y\n",
    "\n",
    "lambda_add(x=1, y=2)"
   ],
   "outputs": [
    {
     "output_type": "execute_result",
     "data": {
      "text/plain": [
       "3"
      ]
     },
     "metadata": {},
     "execution_count": 7
    }
   ],
   "metadata": {}
  },
  {
   "cell_type": "code",
   "execution_count": 8,
   "source": [
    "def typical_add(x, y):\n",
    "    return (x+y)\n",
    "\n",
    "typical_add(x=1, y=2)"
   ],
   "outputs": [
    {
     "output_type": "execute_result",
     "data": {
      "text/plain": [
       "3"
      ]
     },
     "metadata": {},
     "execution_count": 8
    }
   ],
   "metadata": {}
  },
  {
   "cell_type": "code",
   "execution_count": 9,
   "source": [
    "sequence = [1, 3, 5,7, 9]\n",
    "\n",
    "def square(x):\n",
    "    return(x*x)\n",
    "\n",
    "squared_sequence = [square(x) for x in sequence]\n",
    "print(squared_sequence)"
   ],
   "outputs": [
    {
     "output_type": "stream",
     "name": "stdout",
     "text": [
      "[1, 9, 25, 49, 81]\n"
     ]
    }
   ],
   "metadata": {}
  },
  {
   "cell_type": "markdown",
   "source": [
    "now using lambda function, called `map`. the lambda function `map` however returns an variable which is of the type `map object`. This needs to be processed before printing.\n",
    "\n",
    "There's one more advantage of using `map`- **Cross-Language Compatibility**. Code bases which also have JavaScript for instance, have `map` too. So `map` function comes handy in such scenarios.\n"
   ],
   "metadata": {}
  },
  {
   "cell_type": "code",
   "execution_count": 11,
   "source": [
    "squared_sequence = map(square, sequence)\n",
    "type(squared_sequence)"
   ],
   "outputs": [
    {
     "output_type": "execute_result",
     "data": {
      "text/plain": [
       "map"
      ]
     },
     "metadata": {},
     "execution_count": 11
    }
   ],
   "metadata": {}
  },
  {
   "cell_type": "code",
   "execution_count": 12,
   "source": [
    "print(squared_sequence)"
   ],
   "outputs": [
    {
     "output_type": "stream",
     "name": "stdout",
     "text": [
      "<map object at 0x7f97ab117da0>\n"
     ]
    }
   ],
   "metadata": {}
  },
  {
   "cell_type": "markdown",
   "source": [
    "since the return of `map` is a `map object`, we convert it to a `list` variable."
   ],
   "metadata": {}
  },
  {
   "cell_type": "code",
   "execution_count": 13,
   "source": [
    "list(squared_sequence)"
   ],
   "outputs": [
    {
     "output_type": "execute_result",
     "data": {
      "text/plain": [
       "[1, 9, 25, 49, 81]"
      ]
     },
     "metadata": {},
     "execution_count": 13
    }
   ],
   "metadata": {}
  },
  {
   "cell_type": "markdown",
   "source": [
    "## Destructuring of Variables\n",
    "it's possible to store multiple values to a single variable. e.g. below."
   ],
   "metadata": {}
  },
  {
   "cell_type": "code",
   "execution_count": 22,
   "source": [
    "t = 5, 11\n",
    "print(t)\n",
    "type(t)"
   ],
   "outputs": [
    {
     "output_type": "stream",
     "name": "stdout",
     "text": [
      "(5, 11)\n"
     ]
    },
    {
     "output_type": "execute_result",
     "data": {
      "text/plain": [
       "tuple"
      ]
     },
     "metadata": {},
     "execution_count": 22
    }
   ],
   "metadata": {}
  },
  {
   "cell_type": "markdown",
   "source": [
    "it's also possible to `deconstruct` this variable `t` into its individual elements. sample below:-"
   ],
   "metadata": {}
  },
  {
   "cell_type": "code",
   "execution_count": 24,
   "source": [
    "x, y = t\n",
    "print(x, y)"
   ],
   "outputs": [
    {
     "output_type": "stream",
     "name": "stdout",
     "text": [
      "5 11\n"
     ]
    }
   ],
   "metadata": {}
  },
  {
   "cell_type": "code",
   "execution_count": 31,
   "source": [
    "student_attendance = {\n",
    "    \"sai\": 56,\n",
    "    \"shruti\": 70,\n",
    "    \"rucha\": 98,\n",
    "    \"bhavesh\": 25\n",
    "}\n",
    "\n",
    "# the `student_attendance.items()` function returns the dictionary as a list of tuples, as evident in below command.\n",
    "print(list(student_attendance.items()))\n"
   ],
   "outputs": [
    {
     "output_type": "stream",
     "name": "stdout",
     "text": [
      "[('sai', 56), ('shruti', 70), ('rucha', 98), ('bhavesh', 25)]\n"
     ]
    }
   ],
   "metadata": {}
  },
  {
   "cell_type": "markdown",
   "source": [
    "this implies, that the `for` loop goes through each of these tuples one at a time and prints them out."
   ],
   "metadata": {}
  },
  {
   "cell_type": "code",
   "execution_count": 33,
   "source": [
    "for t in student_attendance.items():\n",
    "    print(t)\n",
    "    # print(f'{student}: {attendance}')"
   ],
   "outputs": [
    {
     "output_type": "stream",
     "name": "stdout",
     "text": [
      "('sai', 56)\n",
      "('shruti', 70)\n",
      "('rucha', 98)\n",
      "('bhavesh', 25)\n"
     ]
    }
   ],
   "metadata": {}
  },
  {
   "cell_type": "markdown",
   "source": [
    "the `t` can therefore be deconstructed into two separate variables and printed accordingly. check sample below"
   ],
   "metadata": {}
  },
  {
   "cell_type": "code",
   "execution_count": 34,
   "source": [
    "for student, attendance, in student_attendance.items():\n",
    "    print(f'{student}:{attendance}')"
   ],
   "outputs": [
    {
     "output_type": "stream",
     "name": "stdout",
     "text": [
      "sai:56\n",
      "shruti:70\n",
      "rucha:98\n",
      "bhavesh:25\n"
     ]
    }
   ],
   "metadata": {}
  },
  {
   "cell_type": "markdown",
   "source": [
    "## Dictionary mapping\n",
    "mapping key-values is a common application in web development\n",
    "\n",
    "### we've here creeated a list of tuples comprising `sr no`, `username` and `password`"
   ],
   "metadata": {}
  },
  {
   "cell_type": "code",
   "execution_count": 17,
   "source": [
    "users = [\n",
    "    (0, \"sai\", \"password0\"),\n",
    "    (1, \"shruti\", \"password1\"),\n",
    "    (2, \"ruchi\", \"password2\"),\n",
    "    (3, \"pratik\", \"password3\")\n",
    "]\n",
    "# this line maps all the elements of `users` to the dictionary `username_mapping`, where the key is the username.\n",
    "# the `username` key is denoted by the index[1]\n",
    "username_mapping = {user[1]: user for user in users}"
   ],
   "outputs": [],
   "metadata": {}
  },
  {
   "cell_type": "code",
   "execution_count": 16,
   "source": [
    "username_mapping"
   ],
   "outputs": [
    {
     "output_type": "execute_result",
     "data": {
      "text/plain": [
       "{'sai': (0, 'sai', 'password0'),\n",
       " 'shruti': (1, 'shruti', 'password1'),\n",
       " 'ruchi': (2, 'ruchi', 'password2'),\n",
       " 'pratik': (3, 'pratik', 'password3')}"
      ]
     },
     "metadata": {},
     "execution_count": 16
    }
   ],
   "metadata": {}
  },
  {
   "cell_type": "code",
   "execution_count": 18,
   "source": [
    "username_mapping[\"ruchi\"]"
   ],
   "outputs": [
    {
     "output_type": "execute_result",
     "data": {
      "text/plain": [
       "(2, 'ruchi', 'password2')"
      ]
     },
     "metadata": {},
     "execution_count": 18
    }
   ],
   "metadata": {}
  },
  {
   "cell_type": "markdown",
   "source": [
    "the above method is much more direct to use than the traditional one down below:-"
   ],
   "metadata": {}
  },
  {
   "cell_type": "code",
   "execution_count": 19,
   "source": [
    "for user in users:\n",
    "    if user[1] == 'ruchi':\n",
    "        print(user)"
   ],
   "outputs": [
    {
     "output_type": "stream",
     "name": "stdout",
     "text": [
      "(2, 'ruchi', 'password2')\n"
     ]
    }
   ],
   "metadata": {}
  },
  {
   "cell_type": "code",
   "execution_count": 21,
   "source": [
    "username_input = input(\"Enter Username: \")\n",
    "password_input = input(\"Enter Password: \")\n",
    "\n",
    "# This cmd de-structures the variable into three. the `_` => you don't care about the first variable i.e. the serial number. \n",
    "# the usrname and pwds are then recorded in `username` and `password` respectively.\n",
    "_, username, password = username_mapping[username_input]\n",
    "\n",
    "# check whether the user's password input belongs to the password collection we've internally.\n",
    "if password_input == password:\n",
    "    print(\"Your details are correct\")\n",
    "else:\n",
    "    print(\"Incorrect Username or Password, please try again.\")"
   ],
   "outputs": [
    {
     "output_type": "stream",
     "name": "stdout",
     "text": [
      "Incorrect Username or Password, please try again.\n"
     ]
    }
   ],
   "metadata": {}
  }
 ],
 "metadata": {
  "orig_nbformat": 4,
  "language_info": {
   "name": "python",
   "version": "3.6.7",
   "mimetype": "text/x-python",
   "codemirror_mode": {
    "name": "ipython",
    "version": 3
   },
   "pygments_lexer": "ipython3",
   "nbconvert_exporter": "python",
   "file_extension": ".py"
  },
  "kernelspec": {
   "name": "python3",
   "display_name": "Python 3.6.7 64-bit ('on_premise_build_env': virtualenv)"
  },
  "interpreter": {
   "hash": "c25638ae6db0578e1e1c970a34cdc95ee6d05662459d88eb76cdd9e012d6bfb5"
  }
 },
 "nbformat": 4,
 "nbformat_minor": 2
}